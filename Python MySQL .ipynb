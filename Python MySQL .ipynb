{
 "cells": [
  {
   "cell_type": "code",
   "execution_count": 2,
   "id": "88da020e",
   "metadata": {},
   "outputs": [],
   "source": [
    "import mysql.connector"
   ]
  },
  {
   "cell_type": "code",
   "execution_count": 1,
   "id": "5b1420e6",
   "metadata": {},
   "outputs": [
    {
     "ename": "NameError",
     "evalue": "name 'mysql' is not defined",
     "output_type": "error",
     "traceback": [
      "\u001b[1;31m---------------------------------------------------------------------------\u001b[0m",
      "\u001b[1;31mNameError\u001b[0m                                 Traceback (most recent call last)",
      "Input \u001b[1;32mIn [1]\u001b[0m, in \u001b[0;36m<cell line: 1>\u001b[1;34m()\u001b[0m\n\u001b[1;32m----> 1\u001b[0m mydb \u001b[38;5;241m=\u001b[39m \u001b[43mmysql\u001b[49m\u001b[38;5;241m.\u001b[39mconnector\u001b[38;5;241m.\u001b[39mconnect(\n\u001b[0;32m      2\u001b[0m     host\u001b[38;5;241m=\u001b[39m\u001b[38;5;124m'\u001b[39m\u001b[38;5;124mlocalhost\u001b[39m\u001b[38;5;124m'\u001b[39m,\n\u001b[0;32m      3\u001b[0m     user\u001b[38;5;241m=\u001b[39m\u001b[38;5;124m'\u001b[39m\u001b[38;5;124mroot\u001b[39m\u001b[38;5;124m'\u001b[39m,\n\u001b[0;32m      4\u001b[0m     password\u001b[38;5;241m=\u001b[39m\u001b[38;5;124m'\u001b[39m\u001b[38;5;124m12345\u001b[39m\u001b[38;5;124m'\u001b[39m,\n\u001b[0;32m      5\u001b[0m     database\u001b[38;5;241m=\u001b[39m\u001b[38;5;124m'\u001b[39m\u001b[38;5;124mnode_app\u001b[39m\u001b[38;5;124m'\u001b[39m,\n\u001b[0;32m      6\u001b[0m     charset\u001b[38;5;241m=\u001b[39m\u001b[38;5;124m'\u001b[39m\u001b[38;5;124mutf8mb4\u001b[39m\u001b[38;5;124m'\u001b[39m)\n\u001b[0;32m      8\u001b[0m \u001b[38;5;28mprint\u001b[39m(mydb)\n",
      "\u001b[1;31mNameError\u001b[0m: name 'mysql' is not defined"
     ]
    }
   ],
   "source": [
    "mydb = mysql.connector.connect(\n",
    "    host='localhost',\n",
    "    user='root',\n",
    "    password='12345',\n",
    "    database='node_app',\n",
    "    charset='utf8mb4')\n",
    "\n",
    "print(mydb)"
   ]
  },
  {
   "cell_type": "code",
   "execution_count": 2,
   "id": "a6d83fc7",
   "metadata": {},
   "outputs": [
    {
     "ename": "SyntaxError",
     "evalue": "EOL while scanning string literal (1771002092.py, line 5)",
     "output_type": "error",
     "traceback": [
      "\u001b[1;36m  Input \u001b[1;32mIn [2]\u001b[1;36m\u001b[0m\n\u001b[1;33m    database='node-app\u001b[0m\n\u001b[1;37m                       ^\u001b[0m\n\u001b[1;31mSyntaxError\u001b[0m\u001b[1;31m:\u001b[0m EOL while scanning string literal\n"
     ]
    }
   ],
   "source": [
    "def insertProduct(liste):\n",
    "    connection = mysql.connector.connect(host='localhost',\n",
    "    user='root',\n",
    "    password='12345',\n",
    "    database='node-app \n",
    ")\n",
    "    \n",
    "sql = \"INSERT INTO Products(name,price,imageUrl,description) VALUES (%s,%s,%s,%s)\" # Products table ismidir MySQL deki %s ler yer tutucu görevi yerine getirir\n",
    "values = liste\n",
    "\n",
    "cursor.executemany(sql,values) # Yer tutuculara geçirilen değerler, sorgunun ilgili yerlerine yerleştirilir\n",
    "\n",
    "try:\n",
    "    connection.commit() # Bu adım INSERT işleminin kalıcı olarak veritabanına kaydedilmesini sağlar\n",
    "    print(f'{cursor.rowcount} tane kayıt eklendi)\n",
    "    print(f'son eklenen kaydın id: {cursor.lastrowid}'')\n",
    "except mysql.connector.Error as err:\n",
    "    print('hata:',err)\n",
    "finally:\n",
    "    connection.close()\n",
    "    print('database bağlantısı kapandı')\n",
    "\n",
    "liste = []    \n",
    "while True:\n",
    "    name = input(\"Ürün adı: \")\n",
    "    price = float(input(\"Fiyat: \"))\n",
    "    imageUrl = input(\"Resim İsmi: \")\n",
    "    description = input(\"Açıklama: \")\n",
    "    \n",
    "    liste.append((name,price,imageUrl,description))\n",
    "    \n",
    "    result = input('devam etmek istiyormusunuz e/h')\n",
    "    if result == 'h':\n",
    "        print('kayıtlarınız veritabanına aktarılıyor...')\n",
    "        print(liste)\n",
    "        insertProduct(liste)\n",
    "        break"
   ]
  },
  {
   "cell_type": "code",
   "execution_count": 9,
   "id": "713b16e2",
   "metadata": {},
   "outputs": [
    {
     "ename": "SyntaxError",
     "evalue": "invalid syntax (2533804789.py, line 28)",
     "output_type": "error",
     "traceback": [
      "\u001b[1;36m  Input \u001b[1;32mIn [9]\u001b[1;36m\u001b[0m\n\u001b[1;33m    ogrenciler = [\u001b[0m\n\u001b[1;37m    ^\u001b[0m\n\u001b[1;31mSyntaxError\u001b[0m\u001b[1;31m:\u001b[0m invalid syntax\n"
     ]
    }
   ],
   "source": [
    "import datetime\n",
    "\n",
    "class Student:\n",
    "    connection = connection\n",
    "    mycursor = connection.cursor()\n",
    "    \n",
    "    def __init__(self,studentNumber,name,surname,birthdate,gender):\n",
    "        self.studentNumber = studentNumber\n",
    "        self.name = name\n",
    "        self.surname = surname\n",
    "        self.birthdate = birthdate\n",
    "        self.gender = gender\n",
    "        \n",
    "    def saveStudent(self):\n",
    "        sql = \"INSERT INTO Student(StudentNumber,Name,Surname,Birthdate,Gender)\"\n",
    "        values = ogrenciler\n",
    "        Student.mycursor.executemany(sql,value)\n",
    "        \n",
    "        try:\n",
    "            Student.connection.commit()\n",
    "            print(f'{Student.mycursor.rowcount} tane kayıt eklendi.')\n",
    "        except mysql.connector.Error as err:\n",
    "            print('hata:',err)\n",
    "        finally:\n",
    "            Student.connection.close()\n",
    "            \n",
    "    @staticmethod\n",
    "            \n",
    "    \n",
    "    ogrenciler = [\n",
    "    (101, \"John\", \"Doe\", datetime(2000,1,1), \"Male\"),\n",
    "    (102, \"Jane\", \"Smith\", datetime(2001,2,3), \"Female\"),\n",
    "    (103, \"Mike\", \"Johnson\", datetime(1999,5,10), \"Male\")\n",
    "]\n",
    "\n",
    "Student.saveStudents(ogrenciler)\n",
    "        "
   ]
  },
  {
   "cell_type": "code",
   "execution_count": 10,
   "id": "7ef0ff70",
   "metadata": {},
   "outputs": [
    {
     "ename": "SyntaxError",
     "evalue": "invalid syntax (2772747799.py, line 6)",
     "output_type": "error",
     "traceback": [
      "\u001b[1;36m  Input \u001b[1;32mIn [10]\u001b[1;36m\u001b[0m\n\u001b[1;33m    cursor = connection.cursor()\u001b[0m\n\u001b[1;37m    ^\u001b[0m\n\u001b[1;31mSyntaxError\u001b[0m\u001b[1;31m:\u001b[0m invalid syntax\n"
     ]
    }
   ],
   "source": [
    "# Select Sorgusu - Kayıt Sorgualama\n",
    "\n",
    "def getProducts():\n",
    "    connection = mysql.connector.connect(mydb = mysql.connector.connect(host='localhost',user='root',password='fatbel7478',database='node_app')\n",
    "    cursor = connection.cursor()\n",
    "    \n",
    "    cursor.execute('Select*From Products')\n",
    "    \n",
    "    result = cursor.fetchall() # SORGUMUZDAKİ ALINAN VERİLERİ LİSTE DÖNÜŞTÜRÜR\n",
    "    \n",
    "    for product in result:\n",
    "            print(f'name : {product[1]} price: {product[2]}')\n",
    "                                         "
   ]
  },
  {
   "cell_type": "code",
   "execution_count": 11,
   "id": "bb42e4b1",
   "metadata": {},
   "outputs": [
    {
     "ename": "SyntaxError",
     "evalue": "invalid syntax (2820264690.py, line 5)",
     "output_type": "error",
     "traceback": [
      "\u001b[1;36m  Input \u001b[1;32mIn [11]\u001b[1;36m\u001b[0m\n\u001b[1;33m    cursor = connection.cursor()\u001b[0m\n\u001b[1;37m    ^\u001b[0m\n\u001b[1;31mSyntaxError\u001b[0m\u001b[1;31m:\u001b[0m invalid syntax\n"
     ]
    }
   ],
   "source": [
    "# Where Sorgusu - Kayıt Filtreleme\n",
    "\n",
    "def getProductById(id):\n",
    "    connection = mysql.connector.connect(mydb = mysql.connector.connect(host='localhost',user='root',password='fatbel7478',database='node_app')\n",
    "    cursor = connection.cursor()\n",
    "    \n",
    "    sql = \"Select*From Products Where id=%s\"\n",
    "    params = (id,)\n",
    "                                         \n",
    "    cursor.execute(sql,params)\n",
    "    \n",
    "    result = cursor.fetcall() \n",
    "    \n",
    "    print(f'id: {result[0]}, name:{result[1]},price{result[2]}') \n",
    "                \n",
    "getProductById(1)                                "
   ]
  },
  {
   "cell_type": "code",
   "execution_count": 12,
   "id": "4fba653f",
   "metadata": {},
   "outputs": [
    {
     "ename": "SyntaxError",
     "evalue": "invalid syntax (1499173485.py, line 5)",
     "output_type": "error",
     "traceback": [
      "\u001b[1;36m  Input \u001b[1;32mIn [12]\u001b[1;36m\u001b[0m\n\u001b[1;33m    cursor = connection.cursor()\u001b[0m\n\u001b[1;37m    ^\u001b[0m\n\u001b[1;31mSyntaxError\u001b[0m\u001b[1;31m:\u001b[0m invalid syntax\n"
     ]
    }
   ],
   "source": [
    "# Order By Sorgusu - Kayıt Sıralama\n",
    "\n",
    "def getProductById():\n",
    "    connection = mysql.connector.connect(mydb = mysql.connector.connect(host='localhost',user='root',password='fatbel7478',database='node_app')\n",
    "    cursor = connection.cursor()\n",
    "    \n",
    "    sql = \"Select*From Products Order By id DESC\" # DESC azalan şekilde sıralar\n",
    "    params = (id,)\n",
    "                                         \n",
    "    cursor.execute(sql,params)\n",
    "                                         \n",
    "    try:\n",
    "       result = cursor.fetcall()\n",
    "       for product in result:\n",
    "            print(f'id: {result[0]}, name:{result[1]},price{result[2]}') \n",
    "    except mysql.connector.Error as err:\n",
    "        print('hata',err)\n",
    "    finally:\n",
    "            connection.close()\n",
    "            print('database bağlantısı kapandı.')\n",
    "\n",
    "                \n",
    "getProductById()"
   ]
  },
  {
   "cell_type": "code",
   "execution_count": 1,
   "id": "d22db944",
   "metadata": {},
   "outputs": [
    {
     "ename": "SyntaxError",
     "evalue": "invalid syntax (4233683082.py, line 3)",
     "output_type": "error",
     "traceback": [
      "\u001b[1;36m  Input \u001b[1;32mIn [1]\u001b[1;36m\u001b[0m\n\u001b[1;33m    cursor = connection.cursor()\u001b[0m\n\u001b[1;37m    ^\u001b[0m\n\u001b[1;31mSyntaxError\u001b[0m\u001b[1;31m:\u001b[0m invalid syntax\n"
     ]
    }
   ],
   "source": [
    "def getProductById():\n",
    "    connection = mysql.connector.connect(mydb = mysql.connector.connect(host='localhost',user='root',password='fatbel7478',database='node_app')\n",
    "    cursor = connection.cursor()\n",
    "    \n",
    "    sql = \"Select MAX(Price) from Products\" # Aggregate fonksiyonları\n",
    "    \n",
    "    cursor.execute(sql)\n",
    "                                         \n",
    "    result = cursor.fetchone()\n",
    "                                         \n",
    "    print(f'result: {result[0]} {result[1]}')\n",
    "    "
   ]
  },
  {
   "cell_type": "code",
   "execution_count": 2,
   "id": "7cff1c2f",
   "metadata": {},
   "outputs": [
    {
     "ename": "SyntaxError",
     "evalue": "invalid syntax (2082161660.py, line 5)",
     "output_type": "error",
     "traceback": [
      "\u001b[1;36m  Input \u001b[1;32mIn [2]\u001b[1;36m\u001b[0m\n\u001b[1;33m    cursor = connection.cursor()\u001b[0m\n\u001b[1;37m    ^\u001b[0m\n\u001b[1;31mSyntaxError\u001b[0m\u001b[1;31m:\u001b[0m invalid syntax\n"
     ]
    }
   ],
   "source": [
    "# Update: Kayıt Güncelleme\n",
    "\n",
    "def updateProduct(id,name,price):\n",
    "    connection = mysql.connector.connect(mydb = mysql.connector.connect(host='localhost',user='root',password='fatbel7478',database='node_app')\n",
    "    cursor = connection.cursor()\n",
    "    \n",
    "    sql = \"Update products Set name=%s,price=%s where id=%s\"\n",
    "    values = (name,price,id)                                     \n",
    "    cursor.execute(sql,values)\n",
    "    \n",
    "    try:\n",
    "        connection.commit()\n",
    "        print(f'{cursor.rowcounnt} tane kayıt güncellendi')\n",
    "    except mysql.connector.Error as err:\n",
    "        print('hata',err)\n",
    "    finally:\n",
    "        connection.close()\n",
    "        print('database bağlantısı kapandı.')\n",
    "\n",
    "updateProduct(1,'iphone 8',4000)"
   ]
  },
  {
   "cell_type": "code",
   "execution_count": 1,
   "id": "9d154d66",
   "metadata": {},
   "outputs": [
    {
     "ename": "SyntaxError",
     "evalue": "invalid syntax (1029511325.py, line 5)",
     "output_type": "error",
     "traceback": [
      "\u001b[1;36m  Input \u001b[1;32mIn [1]\u001b[1;36m\u001b[0m\n\u001b[1;33m    cursor = connection.cursor()\u001b[0m\n\u001b[1;37m    ^\u001b[0m\n\u001b[1;31mSyntaxError\u001b[0m\u001b[1;31m:\u001b[0m invalid syntax\n"
     ]
    }
   ],
   "source": [
    "# Delete Sorgusu - Kayıt Silme\n",
    "\n",
    "def deleteProduct():\n",
    "    connection = mysql.connector.connect(mydb = mysql.connector.connect(host='localhost',user='root',password='fatbel7478',database='node_app')\n",
    "    cursor = connection.cursor()\n",
    "    \n",
    "    sql = \"delete from products where name id=%s\" # s7 geçen verileri siliyor\n",
    "    values = (id,)\n",
    "    cursor.execute(sql,values)\n",
    "    \n",
    "    try:\n",
    "        connection.commit()\n",
    "        print(f'{cursor.rowcounnt} tane kayıt silindi')\n",
    "    except mysql.connector.Error as err:\n",
    "        print('hata',err)\n",
    "    finally:\n",
    "        connection.close()\n",
    "        print('database bağlantısı kapandı.')\n",
    "                                         \n",
    "deleteProduct()"
   ]
  },
  {
   "cell_type": "code",
   "execution_count": 1,
   "id": "d7ef7aa9",
   "metadata": {},
   "outputs": [],
   "source": [
    "# joins işlemi !!!\n",
    "# sql = \"Select*From Products\"\n",
    "# sql = \"Select*From Categories\" # iki farklı tablo ilişkisel veri tabanı kurma\n",
    "# sql = \"Select*From Products as P inner join Categories as C on C.id=P.Categoryid where P.name='Samsung s8'\" BURDA TÜM KOLONLARI GETİRİR VE İK TABLOYU BİRLEŞTİRİR !\n",
    "# on : SQLDE birleştirme işine yarıyor joinde kullanılıyor yani\n",
    "# BEN YUKARDAKİ GİBİ TÜM KOLONLARI ALMAK İSTEMİYORSAM İSTEDİĞİMİ ALMAK İSTİYORSAM\n",
    "# Select P.name,P.price,C.name From Products as P inner join Categories as C on C.id=P.Categoryid where C.name = 'Telefon'"
   ]
  },
  {
   "cell_type": "code",
   "execution_count": null,
   "id": "5a0175c4",
   "metadata": {},
   "outputs": [],
   "source": []
  }
 ],
 "metadata": {
  "kernelspec": {
   "display_name": "Python 3 (ipykernel)",
   "language": "python",
   "name": "python3"
  },
  "language_info": {
   "codemirror_mode": {
    "name": "ipython",
    "version": 3
   },
   "file_extension": ".py",
   "mimetype": "text/x-python",
   "name": "python",
   "nbconvert_exporter": "python",
   "pygments_lexer": "ipython3",
   "version": "3.9.12"
  }
 },
 "nbformat": 4,
 "nbformat_minor": 5
}
